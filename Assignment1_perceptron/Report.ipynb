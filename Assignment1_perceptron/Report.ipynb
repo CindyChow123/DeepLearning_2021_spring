{
 "cells": [
  {
   "cell_type": "markdown",
   "metadata": {
    "pycharm": {
     "name": "#%% md\n"
    }
   },
   "source": [
    "# Assignment 1 of Deep Learning"
   ]
  },
  {
   "cell_type": "markdown",
   "metadata": {
    "pycharm": {
     "name": "#%% md\n"
    }
   },
   "source": [
    "## Part 1: the perceptron\n",
    "### Task 1: Dataset Generation (unshuffled data)"
   ]
  },
  {
   "cell_type": "code",
   "execution_count": 1,
   "metadata": {
    "pycharm": {
     "name": "#%%\n"
    }
   },
   "outputs": [],
   "source": [
    "import numpy as np\n",
    "from sklearn.model_selection import train_test_split\n",
    "mea=[(1,2),(1,1)]\n",
    "cov=[[[1,0],[0,1]],[[1,0],[0,1]]]"
   ]
  },
  {
   "cell_type": "markdown",
   "source": [
    "#### 1. define two gaussian distributions, sample 100 points from each\n",
    "#### 2. split 80 each distribution for training and 20 each for testing"
   ],
   "metadata": {
    "collapsed": false,
    "pycharm": {
     "name": "#%% md\n"
    }
   }
  },
  {
   "cell_type": "code",
   "execution_count": 2,
   "metadata": {
    "pycharm": {
     "name": "#%%\n"
    }
   },
   "outputs": [],
   "source": [
    "def distribution_sampling(mea,cov):\n",
    "    gau_sam1 = np.random.multivariate_normal(mean=mea[0],cov=cov[0],size=100,check_valid='raise')\n",
    "    gau_sam2 = np.random.multivariate_normal(mean=mea[1],cov=cov[1],size=100,check_valid='raise')\n",
    "    label1=np.ones(100)\n",
    "    label2=np.ones(100)*-1\n",
    "    X_train1,X_test1,y_train1,y_test1 = train_test_split(gau_sam1,label1,test_size=0.2,random_state=42)\n",
    "    X_train2,X_test2,y_train2,y_test2 = train_test_split(gau_sam2,label2,test_size=0.2,random_state=18)\n",
    "    X_train=np.concatenate((X_train1,X_train2),axis=0)\n",
    "    X_test=np.concatenate((X_test1,X_test2),axis=0)\n",
    "    y_train=np.concatenate((y_train1,y_train2),axis=0)\n",
    "    y_test=np.concatenate((y_test1,y_test2),axis=0)\n",
    "    return X_train,X_test,y_train,y_test"
   ]
  },
  {
   "cell_type": "markdown",
   "metadata": {
    "pycharm": {
     "name": "#%% md\n"
    }
   },
   "source": [
    "#### 3. display the first 80 data of training and testing"
   ]
  },
  {
   "cell_type": "code",
   "source": [
    "mean=[(1,2),(1,1)]\n",
    "cova=[[[1,0],[0,1]],[[1,0],[0,1]]]\n",
    "X_train,X_test,y_train,y_test = distribution_sampling(mean,cova)\n",
    "print(\"Training points: \",X_train[0:10,:])\n",
    "print(\"Training labels: \",y_train[0:10])\n",
    "print(\"Testing points: \",X_test[0:10,:])\n",
    "print(\"Testing labels: \",y_test[0:10])\n"
   ],
   "metadata": {
    "collapsed": false,
    "pycharm": {
     "name": "#%%\n"
    }
   },
   "execution_count": 3,
   "outputs": [
    {
     "name": "stdout",
     "output_type": "stream",
     "text": [
      "Training points:  [[ 1.54809996  1.8533794 ]\n",
      " [ 0.58792385  1.73798523]\n",
      " [ 1.51577539  2.95386144]\n",
      " [ 1.09239959 -0.06010561]\n",
      " [ 1.82671312  0.91962352]\n",
      " [ 1.3377696   2.71814576]\n",
      " [-0.55947624  0.77574081]\n",
      " [ 2.19307462  2.20947106]\n",
      " [-0.98503364  1.59148797]\n",
      " [ 2.4001944   2.64095328]]\n",
      "Training labels:  [1. 1. 1. 1. 1. 1. 1. 1. 1. 1.]\n",
      "Testing points:  [[ 1.61755264  0.8947123 ]\n",
      " [ 0.38314939  1.82417075]\n",
      " [-0.48990911  3.24985396]\n",
      " [ 0.78313416  4.74003942]\n",
      " [ 0.55360799  0.97154615]\n",
      " [-0.20821196  1.68278217]\n",
      " [-0.63532025  2.16344988]\n",
      " [-0.24313917  1.05790573]\n",
      " [ 1.45721755  1.88596317]\n",
      " [ 3.48571366  3.28074015]]\n",
      "Testing labels:  [1. 1. 1. 1. 1. 1. 1. 1. 1. 1.]\n"
     ]
    }
   ]
  },
  {
   "cell_type": "markdown",
   "metadata": {
    "pycharm": {
     "name": "#%% md\n"
    }
   },
   "source": [
    "## Task 2: Perceptron Implementation\n",
    "### 1. The perceptron model is implemented based on perceptronslides.pdf\n",
    "#### i. initialize the weight matrix to zero\n",
    "#### ii. for each epoch, shuffle the data, do the training ,update the weights\n",
    "### For detailed implementation, please refer to perceptron.py\n",
    "## Task 3: Train and Test on the perceptron model"
   ]
  },
  {
   "cell_type": "code",
   "execution_count": 5,
   "metadata": {
    "pycharm": {
     "name": "#%%\n"
    }
   },
   "outputs": [
    {
     "name": "stdout",
     "output_type": "stream",
     "text": [
      "Accuracy:  65.0 %\n",
      "Pred:  [-1.  1.  1.  1. -1.  1.  1.  1.  1.  1.  1. -1.  1.  1.  1.  1. -1.  1.\n",
      "  1.  1.  1.  1. -1. -1.  1.  1.  1.  1.  1.  1.  1. -1. -1. -1.  1. -1.\n",
      " -1. -1. -1. -1.]\n",
      "Labels:  [ 1.  1.  1.  1.  1.  1.  1.  1.  1.  1.  1.  1.  1.  1.  1.  1.  1.  1.\n",
      "  1.  1. -1. -1. -1. -1. -1. -1. -1. -1. -1. -1. -1. -1. -1. -1. -1. -1.\n",
      " -1. -1. -1. -1.]\n"
     ]
    }
   ],
   "source": [
    "import perceptron\n",
    "random_seed_pc = 40\n",
    "\n",
    "def perceptron_training(X_train,y_train,X_test,y_test):\n",
    "    pcp = perceptron.Perceptron(random_seed_pc)\n",
    "    pcp.train(X_train,y_train)\n",
    "    accuracy,pred = pcp.test(X_test,y_test)\n",
    "    print(\"Accuracy: \",accuracy*100,\"%\")\n",
    "    print(\"Pred: \",pred)\n",
    "    print(\"Labels: \",y_test)\n",
    "\n",
    "perceptron_training(X_train,y_train,X_test,y_test)"
   ]
  },
  {
   "cell_type": "markdown",
   "metadata": {
    "pycharm": {
     "name": "#%% md\n"
    }
   },
   "source": [
    "## Task 4: Experiments with different settings of means and variance\n",
    "### Experiment 1: close means and high variance"
   ]
  },
  {
   "cell_type": "code",
   "execution_count": 10,
   "metadata": {
    "pycharm": {
     "name": "#%%\n"
    }
   },
   "outputs": [
    {
     "name": "stdout",
     "output_type": "stream",
     "text": [
      "Accuracy:  45.0 %\n",
      "Pred:  [-1. -1. -1.  1.  1. -1. -1. -1. -1.  1. -1. -1.  1.  1. -1. -1.  1.  1.\n",
      "  1. -1.  1.  1. -1.  1.  1.  1.  1. -1. -1. -1.  1. -1. -1. -1.  1. -1.\n",
      "  1.  1. -1. -1.]\n",
      "Labels:  [ 1.  1.  1.  1.  1.  1.  1.  1.  1.  1.  1.  1.  1.  1.  1.  1.  1.  1.\n",
      "  1.  1. -1. -1. -1. -1. -1. -1. -1. -1. -1. -1. -1. -1. -1. -1. -1. -1.\n",
      " -1. -1. -1. -1.]\n"
     ]
    }
   ],
   "source": [
    "mean=[(1,2),(1,1)]\n",
    "cova=[[[60,0],[0,60]],[[50,0],[0,50]]]\n",
    "X_train,X_test,y_train,y_test = distribution_sampling(mean,cova)\n",
    "perceptron_training(X_train,y_train,X_test,y_test)"
   ]
  },
  {
   "cell_type": "markdown",
   "metadata": {
    "pycharm": {
     "name": "#%% md\n"
    }
   },
   "source": [
    "### Experiment 2: close means and low variance"
   ]
  },
  {
   "cell_type": "code",
   "execution_count": 11,
   "metadata": {
    "pycharm": {
     "name": "#%%\n"
    }
   },
   "outputs": [
    {
     "name": "stdout",
     "output_type": "stream",
     "text": [
      "Accuracy:  57.49999999999999 %\n",
      "Pred:  [ 1. -1.  1.  1.  1. -1. -1. -1.  1.  1.  1.  1.  1.  1.  1.  1. -1.  1.\n",
      "  1. -1.  1.  1.  1. -1.  1.  1. -1.  1. -1. -1.  1.  1.  1. -1. -1.  1.\n",
      "  1. -1. -1. -1.]\n",
      "Labels:  [ 1.  1.  1.  1.  1.  1.  1.  1.  1.  1.  1.  1.  1.  1.  1.  1.  1.  1.\n",
      "  1.  1. -1. -1. -1. -1. -1. -1. -1. -1. -1. -1. -1. -1. -1. -1. -1. -1.\n",
      " -1. -1. -1. -1.]\n"
     ]
    }
   ],
   "source": [
    "mean=[(1,2),(1,1)]\n",
    "cova=[[[1,0],[0,1]],[[2,0],[0,2]]]\n",
    "X_train,X_test,y_train,y_test = distribution_sampling(mean,cova)\n",
    "perceptron_training(X_train,y_train,X_test,y_test)"
   ]
  },
  {
   "cell_type": "markdown",
   "metadata": {},
   "source": [
    "### Experiment 3: distant means and high variance"
   ]
  },
  {
   "cell_type": "code",
   "execution_count": 8,
   "metadata": {
    "pycharm": {
     "name": "#%%\n"
    }
   },
   "outputs": [
    {
     "name": "stdout",
     "output_type": "stream",
     "text": [
      "Accuracy:  100.0 %\n",
      "Pred:  [ 1.  1.  1.  1.  1.  1.  1.  1.  1.  1.  1.  1.  1.  1.  1.  1.  1.  1.\n",
      "  1.  1. -1. -1. -1. -1. -1. -1. -1. -1. -1. -1. -1. -1. -1. -1. -1. -1.\n",
      " -1. -1. -1. -1.]\n",
      "Labels:  [ 1.  1.  1.  1.  1.  1.  1.  1.  1.  1.  1.  1.  1.  1.  1.  1.  1.  1.\n",
      "  1.  1. -1. -1. -1. -1. -1. -1. -1. -1. -1. -1. -1. -1. -1. -1. -1. -1.\n",
      " -1. -1. -1. -1.]\n"
     ]
    }
   ],
   "source": [
    "mean=[(1,2),(80,60)]\n",
    "cova=[[[60,0],[0,60]],[[50,0],[0,50]]]\n",
    "X_train,X_test,y_train,y_test = distribution_sampling(mean,cova)\n",
    "perceptron_training(X_train,y_train,X_test,y_test)"
   ]
  },
  {
   "cell_type": "markdown",
   "metadata": {},
   "source": [
    "### Experiment 4: distant means and low variance"
   ]
  },
  {
   "cell_type": "code",
   "execution_count": 9,
   "metadata": {
    "pycharm": {
     "name": "#%%\n"
    }
   },
   "outputs": [
    {
     "name": "stdout",
     "output_type": "stream",
     "text": [
      "Accuracy:  100.0 %\n",
      "Pred:  [ 1.  1.  1.  1.  1.  1.  1.  1.  1.  1.  1.  1.  1.  1.  1.  1.  1.  1.\n",
      "  1.  1. -1. -1. -1. -1. -1. -1. -1. -1. -1. -1. -1. -1. -1. -1. -1. -1.\n",
      " -1. -1. -1. -1.]\n",
      "Labels:  [ 1.  1.  1.  1.  1.  1.  1.  1.  1.  1.  1.  1.  1.  1.  1.  1.  1.  1.\n",
      "  1.  1. -1. -1. -1. -1. -1. -1. -1. -1. -1. -1. -1. -1. -1. -1. -1. -1.\n",
      " -1. -1. -1. -1.]\n"
     ]
    }
   ],
   "source": [
    "mean=[(1,2),(80,60)]\n",
    "cova=[[[1,0],[0,1]],[[2,0],[0,2]]]\n",
    "X_train,X_test,y_train,y_test = distribution_sampling(mean,cova)\n",
    "perceptron_training(X_train,y_train,X_test,y_test)"
   ]
  },
  {
   "cell_type": "markdown",
   "metadata": {
    "pycharm": {
     "name": "#%% md\n"
    }
   },
   "source": [
    "##### In conclusion, if the two gaussian distributions have distant means, the classification accuracy tends to increase.\n",
    "##### If they have close means, the performance will go down a lot.\n",
    "##### Also, experiments show that if the two gaussian distributions have close means, classifying gaussian pairs with low variance can achieve a better accuracy score than those with high variance.\n",
    "\n",
    "## Part 2: the multi-layer perceptron\n",
    "### Task 1: MLP architecture\n",
    "#### Please refer to mlp_numpy.py and modules.py\n",
    "### Task 2: training and testing implementation\n",
    "#### 80% for training and 20% for testing\n",
    "#### Please refer to the train_mlp_numpy.py\n",
    "### Task 3: Accuracy curves for batch gradient descent"
   ]
  },
  {
   "cell_type": "code",
   "execution_count": 17,
   "metadata": {
    "pycharm": {
     "name": "#%%\n"
    }
   },
   "outputs": [
    {
     "data": {
      "text/plain": "<Figure size 432x288 with 1 Axes>",
      "image/png": "[encoded data removed]"
     },
     "metadata": {
      "needs_background": "light"
     },
     "output_type": "display_data"
    }
   ],
   "source": [
    "import train_mlp_numpy as tmn\n",
    "import matplotlib.pyplot as plt\n",
    "# %matplotlib inline\n",
    "x, test_acc, train_acc = tmn.main('batch')\n",
    "plt.plot(x,test_acc,'r--',label='test')\n",
    "plt.plot(x,train_acc,'g--',label='train')\n",
    "plt.xlabel('epoch')\n",
    "plt.ylabel('accuracy')\n",
    "plt.show()"
   ]
  },
  {
   "cell_type": "markdown",
   "source": [
    "## Part 3: stochastic gradient descent\n",
    "### Task 1: modify train_mlp_numpy to accept a parameter\n",
    "#### Please refer to mlp_numpy.py\n",
    "### Task 3: Accuracy curves for Stochastic gradient descent, green line for training accuracy and red line for testing accuracy x ."
   ],
   "metadata": {
    "collapsed": false,
    "pycharm": {
     "name": "#%% md\n"
    }
   }
  },
  {
   "cell_type": "code",
   "execution_count": 19,
   "metadata": {},
   "outputs": [
    {
     "data": {
      "text/plain": "<Figure size 432x288 with 1 Axes>",
      "image/png": "[encoded data removed]"
     },
     "metadata": {
      "needs_background": "light"
     },
     "output_type": "display_data"
    }
   ],
   "source": [
    "import train_mlp_numpy as tmn\n",
    "import matplotlib.pyplot as plt\n",
    "# %matplotlib inline\n",
    "x, test_acc, train_acc = tmn.main('sgd')\n",
    "plt.plot(x,test_acc,'r--',label='test')\n",
    "plt.plot(x,train_acc,'g--',label='train')\n",
    "plt.xlabel('epoch')\n",
    "plt.ylabel('accuracy')\n",
    "plt.show()"
   ]
  }
 ],
 "metadata": {
  "kernelspec": {
   "display_name": "cs324",
   "language": "python",
   "name": "cs324"
  },
  "language_info": {
   "codemirror_mode": {
    "name": "ipython",
    "version": 2
   },
   "file_extension": ".py",
   "mimetype": "text/x-python",
   "name": "python",
   "nbconvert_exporter": "python",
   "pygments_lexer": "ipython2",
   "version": "2.7.6"
  }
 },
 "nbformat": 4,
 "nbformat_minor": 1
}