{
 "cells": [
  {
   "cell_type": "markdown",
   "metadata": {
    "collapsed": true,
    "pycharm": {
     "name": "#%% md\n"
    }
   },
   "source": [
    "# Assignment 2"
   ]
  },
  {
   "cell_type": "markdown",
   "source": [
    "## Part1: PyTorch MLP\n",
    "### Task1: MLP implementation\n",
    "#### In pytorch_mlp.py and pytorch_train_mlp.py, a multi-layer perceptron is implemented using pytorch. \"pytorch_mlp.py\" contains the MLP's architecture while the train(method) function includes the training procedure of that mlp.\n",
    "#### Input \"train\" function with method of either 'sgd' or 'batch' can choose to run the back propagation in stochastic gradient descent mode or batch gradient descent mode.\n",
    "### Task2: Train the numpy MLP and the PyTorch MLP with the same data.\n",
    "#### Part1: In this task, I use stochastic gradient descent to train the models on make_moons data. In the following code section, I split the data generation part and the training part to display the training process explicitly."
   ],
   "metadata": {
    "collapsed": false,
    "pycharm": {
     "name": "#%% md\n"
    }
   }
  },
  {
   "cell_type": "code",
   "execution_count": 2,
   "outputs": [],
   "source": [
    "from torch.nn import CrossEntropyLoss\n",
    "from pytorch_mlp import MLP\n",
    "from sklearn.datasets import make_moons\n",
    "from sklearn.model_selection import train_test_split\n",
    "import torch\n",
    "import numpy as np\n",
    "import train_mlp_numpy\n",
    "import pytorch_train_mlp\n",
    "from tqdm import tqdm\n",
    "from mlp_numpy import MLP as np_MLP\n",
    "from pytorch_mlp import MLP as pt_MLP\n",
    "from modules import CrossEntropy\n",
    "\n",
    "DNN_HIDDEN_UNITS_DEFAULT = '20'\n",
    "LEARNING_RATE_DEFAULT = 1e-2\n",
    "MAX_EPOCHS_DEFAULT = 1500\n",
    "EVAL_FREQ_DEFAULT = 10"
   ],
   "metadata": {
    "collapsed": false,
    "pycharm": {
     "name": "#%%\n"
    }
   }
  },
  {
   "cell_type": "code",
   "execution_count": 3,
   "outputs": [],
   "source": [
    "# Data Generation\n",
    "X, Y = make_moons(1000, random_state=25)\n",
    "x_train, x_test, y_train, y_test = train_test_split(X, Y, test_size=0.2, random_state=42)\n",
    "y_train_one_hot = np.eye(2)[y_train]\n",
    "y_test_one_hot = np.eye(2)[y_test]"
   ],
   "metadata": {
    "collapsed": false,
    "pycharm": {
     "name": "#%%\n"
    }
   }
  },
  {
   "cell_type": "code",
   "execution_count": 8,
   "outputs": [],
   "source": [
    "def train_np_sgd(mlp, X_train, X_test, Y_train_one_hot, Y_test_one_hot):\n",
    "    loss_layer=CrossEntropy()\n",
    "    test_accu = []\n",
    "    x_axis =[]\n",
    "    with tqdm(total=MAX_EPOCHS_DEFAULT) as pbar:\n",
    "        pbar.set_description('numpy mlp training:')\n",
    "        for j in range(MAX_EPOCHS_DEFAULT):\n",
    "            for i in range(len(X_train)):\n",
    "                predict = mlp.forward(X_train[i])\n",
    "                dout = loss_layer.backward(predict,Y_train_one_hot[i])\n",
    "                dx = mlp.backward(dout)\n",
    "\n",
    "                # update the weight\n",
    "                mlp.output_layer[0].params['weight'] = mlp.output_layer[0].params['weight'] - LEARNING_RATE_DEFAULT * mlp.output_layer[0].grads['weight']\n",
    "                mlp.output_layer[0].params['bias'] = mlp.output_layer[0].params['bias'] - LEARNING_RATE_DEFAULT * mlp.output_layer[0].grads['bias']\n",
    "                for layer in mlp.layers:\n",
    "                    layer[0].params['weight'] = layer[0].params['weight'] - LEARNING_RATE_DEFAULT * \\\n",
    "                                                           layer[0].grads['weight']\n",
    "                    layer[0].params['bias'] = layer[0].params['bias'] - LEARNING_RATE_DEFAULT * \\\n",
    "                                                         layer[0].grads['bias']\n",
    "            if j % EVAL_FREQ_DEFAULT == 0:\n",
    "                x_axis.append(j)\n",
    "                plabels = np.empty(Y_test_one_hot.shape)\n",
    "                for i in range(len(X_test)):\n",
    "                    eval_predict = mlp.forward(X_test[i])\n",
    "                    c = train_mlp_numpy.prob_to_class(eval_predict)\n",
    "                    plabels[i]=c\n",
    "                # eval_loss = loss_layer.forward(plabels,y_test)\n",
    "                # eval_losses.append(eval_loss)\n",
    "                a = train_mlp_numpy.accuracy(plabels,Y_test_one_hot)\n",
    "                test_accu.append(a)\n",
    "                pbar.update(EVAL_FREQ_DEFAULT)\n",
    "    print(\"np_running_complete\")\n",
    "    return x_axis,test_accu"
   ],
   "metadata": {
    "collapsed": false,
    "pycharm": {
     "name": "#%%\n"
    }
   }
  },
  {
   "cell_type": "code",
   "execution_count": 9,
   "outputs": [],
   "source": [
    "# stochastic gradient descent not using pytorch's SGD optimizer\n",
    "def train_pt_sgd(mlp, X_train, X_test, Y_train, Y_test):\n",
    "    loss_layer = CrossEntropyLoss()\n",
    "    acc_test=[]\n",
    "    x_axis=[]\n",
    "    optimizer = torch.optim.SGD(mlp.parameters(), lr=0.001, momentum=0)\n",
    "    with tqdm(total=MAX_EPOCHS_DEFAULT) as pbar:\n",
    "        pbar.set_description('pytorch mlp training:')\n",
    "        for i in range(0,MAX_EPOCHS_DEFAULT):\n",
    "            for j in range(len(X_train)):\n",
    "                xi=np.expand_dims(X_train[j],0)\n",
    "                yi=torch.tensor([Y_train[j]])\n",
    "                train_predict = mlp.forward(xi)\n",
    "                loss = loss_layer(train_predict, yi)\n",
    "                # print(loss.item())\n",
    "                optimizer.zero_grad()\n",
    "                loss.backward()\n",
    "                optimizer.step()\n",
    "\n",
    "            if i%EVAL_FREQ_DEFAULT==0:\n",
    "                with torch.no_grad():\n",
    "                    mlp.eval()\n",
    "                    x_axis.append(i)\n",
    "                    test_predict=mlp.forward(X_test)\n",
    "                    label_lst = pytorch_train_mlp.prob_to_class(test_predict)\n",
    "                    acc_test.append(pytorch_train_mlp.accuracy(label_lst,Y_test))\n",
    "                    pbar.update(EVAL_FREQ_DEFAULT)\n",
    "                    mlp.train()\n",
    "    print('pt_running_complete')\n",
    "    return x_axis, acc_test\n"
   ],
   "metadata": {
    "collapsed": false,
    "pycharm": {
     "name": "#%%\n"
    }
   }
  },
  {
   "cell_type": "code",
   "execution_count": 11,
   "outputs": [
    {
     "name": "stderr",
     "output_type": "stream",
     "text": [
      "pytorch mlp training:: 100%|██████████| 1500/1500 [08:08<00:00,  3.07it/s]\n",
      "numpy mlp training:: 100%|██████████| 1500/1500 [02:20<00:00, 10.71it/s]\n"
     ]
    },
    {
     "name": "stdout",
     "output_type": "stream",
     "text": [
      "pt_running_complete\n",
      "np_running_complete\n"
     ]
    }
   ],
   "source": [
    "n_hidden = DNN_HIDDEN_UNITS_DEFAULT.split(',')\n",
    "n_hidden = [int(x) for x in n_hidden]\n",
    "pt_mlp=pt_MLP(2,n_hidden=n_hidden,n_classes=2)\n",
    "np_mlp =np_MLP(2,n_hidden,2)\n",
    "x_axis_pt,acc_pt = train_pt_sgd(pt_mlp,x_train,x_test,y_train,y_test)\n",
    "x_axit_np,acc_np = train_np_sgd(np_mlp,x_train,x_test,y_train_one_hot,y_test_one_hot)"
   ],
   "metadata": {
    "collapsed": false,
    "pycharm": {
     "name": "#%%\n"
    }
   }
  },
  {
   "cell_type": "code",
   "execution_count": 12,
   "outputs": [
    {
     "data": {
      "text/plain": "<Figure size 432x288 with 1 Axes>",
      "image/png": "[encoded data removed]"
     },
     "metadata": {
      "needs_background": "light"
     },
     "output_type": "display_data"
    }
   ],
   "source": [
    "import matplotlib.pyplot as plt\n",
    "# %matplotlib inline\n",
    "plt.plot(x_axit_np,acc_np,'r--',label='numpy')\n",
    "plt.plot(x_axis_pt,acc_pt,'g--',label='pytorch')\n",
    "plt.xlabel('epoch')\n",
    "plt.ylabel('accuracy')\n",
    "plt.show()"
   ],
   "metadata": {
    "collapsed": false,
    "pycharm": {
     "name": "#%%\n"
    }
   }
  },
  {
   "cell_type": "markdown",
   "source": [
    "#### Part2: In this task, I use stochastic gradient descent to train the models on make_circles data."
   ],
   "metadata": {
    "collapsed": false,
    "pycharm": {
     "name": "#%% md\n"
    }
   }
  },
  {
   "cell_type": "code",
   "execution_count": 4,
   "outputs": [],
   "source": [
    "# data generation\n",
    "\n",
    "from sklearn.datasets import make_circles\n",
    "X, Y = make_circles(1000, random_state=25)\n",
    "x_trainc, x_testc, y_trainc, y_testc = train_test_split(X, Y, test_size=0.2, random_state=42)\n",
    "y_train_one_hotc = np.eye(2)[y_trainc]\n",
    "y_test_one_hotc = np.eye(2)[y_testc]"
   ],
   "metadata": {
    "collapsed": false,
    "pycharm": {
     "name": "#%%\n"
    }
   }
  },
  {
   "cell_type": "code",
   "execution_count": 7,
   "outputs": [
    {
     "data": {
      "text/plain": "<Figure size 432x288 with 2 Axes>",
      "image/png": "[encoded data removed]"
     },
     "metadata": {
      "needs_background": "light"
     },
     "output_type": "display_data"
    }
   ],
   "source": [
    "# plot sample points\n",
    "\n",
    "import matplotlib.pyplot as plt\n",
    "\n",
    "fig=plt.figure(1)\n",
    "\n",
    "plt.subplot(121)\n",
    "plt.title('make_circles_train')\n",
    "plt.scatter(x_trainc[:,0],x_trainc[:,1],marker='o',c=y_trainc)\n",
    "\n",
    "plt.subplot(122)\n",
    "plt.title('make_circles_test')\n",
    "plt.scatter(x_testc[:,0],x_testc[:,1],marker='o',c=y_testc)\n",
    "plt.show()"
   ],
   "metadata": {
    "collapsed": false,
    "pycharm": {
     "name": "#%%\n"
    }
   }
  },
  {
   "cell_type": "code",
   "execution_count": 10,
   "outputs": [
    {
     "name": "stderr",
     "output_type": "stream",
     "text": [
      "pytorch mlp training:: 100%|██████████| 1500/1500 [07:53<00:00,  3.17it/s]\n",
      "numpy mlp training:: 100%|██████████| 1500/1500 [02:18<00:00, 10.84it/s]\n"
     ]
    },
    {
     "name": "stdout",
     "output_type": "stream",
     "text": [
      "pt_running_complete\n",
      "np_running_complete\n"
     ]
    },
    {
     "data": {
      "text/plain": "<Figure size 432x288 with 1 Axes>",
      "image/png": "[encoded data removed]"
     },
     "metadata": {
      "needs_background": "light"
     },
     "output_type": "display_data"
    }
   ],
   "source": [
    "# train on the make_circles dataset\n",
    "n_hiddenc = DNN_HIDDEN_UNITS_DEFAULT.split(',')\n",
    "n_hiddenc = [int(x) for x in n_hiddenc]\n",
    "pt_mlpc=pt_MLP(2,n_hidden=n_hiddenc,n_classes=2)\n",
    "np_mlpc =np_MLP(2,n_hiddenc,2)\n",
    "x_axis_ptc,acc_ptc = train_pt_sgd(pt_mlpc,x_trainc,x_testc,y_trainc,y_testc)\n",
    "x_axit_npc,acc_npc = train_np_sgd(np_mlpc,x_trainc,x_testc,y_train_one_hotc,y_test_one_hotc)\n",
    "\n",
    "# %matplotlib inline\n",
    "plt.plot(x_axit_npc,acc_npc,'r--',label='numpy')\n",
    "plt.plot(x_axis_ptc,acc_ptc,'g--',label='pytorch')\n",
    "plt.xlabel('epoch')\n",
    "plt.ylabel('accuracy')\n",
    "plt.show()"
   ],
   "metadata": {
    "collapsed": false,
    "pycharm": {
     "name": "#%%\n"
    }
   }
  },
  {
   "cell_type": "markdown",
   "source": [
    "### Task 3: Train a network on the classification task on CIFAR10 dataset.\n",
    "#### The red line in the line chart represents the test error while the green line represents the training error. The bar chart represents the percentage of correctly classified images in each category."
   ],
   "metadata": {
    "collapsed": false,
    "pycharm": {
     "name": "#%% md\n"
    }
   }
  },
  {
   "cell_type": "code",
   "execution_count": 1,
   "outputs": [],
   "source": [
    "import train_model_CIFAR10 as tmc\n",
    "import model_CIFAR10 as mc\n",
    "import torch.nn as nn\n",
    "import torch.optim as optim\n",
    "import matplotlib.pyplot as plt\n",
    "\n",
    "def show_accu(x_axis1,y_axis1,x_axis2,y_axis2,x_label,y_label,y1,y2):\n",
    "    # %matplotlib inline\n",
    "    plt.plot(x_axis1,y_axis1,'g--',label=y1)\n",
    "    plt.plot(x_axis2,y_axis2,'r--',label=y2)\n",
    "    plt.xlabel(x_label)\n",
    "    plt.ylabel(y_label)\n",
    "    plt.show()\n",
    "\n",
    "def show_percentage(classes,percentage):\n",
    "    plt.barh(range(len(percentage)), percentage,color='rgb',tick_label=classes)\n",
    "    plt.show()"
   ],
   "metadata": {
    "collapsed": false,
    "pycharm": {
     "name": "#%%\n"
    }
   }
  },
  {
   "cell_type": "code",
   "execution_count": 3,
   "outputs": [],
   "source": [
    "train_loader, test_loader,classes = tmc.get_cifar10(batch_size=5)"
   ],
   "metadata": {
    "collapsed": false,
    "pycharm": {
     "name": "#%%\n"
    }
   }
  },
  {
   "cell_type": "markdown",
   "source": [
    "#### CrossEntropyLoss + SGD optimizer"
   ],
   "metadata": {
    "collapsed": false,
    "pycharm": {
     "name": "#%% md\n"
    }
   }
  },
  {
   "cell_type": "code",
   "execution_count": 4,
   "outputs": [
    {
     "name": "stderr",
     "output_type": "stream",
     "text": [
      "model training:: 100%|██████████| 750000/750000 [08:39<00:00, 1444.66it/s]\n",
      "<ipython-input-1-14e01e829f9a>:16: MatplotlibDeprecationWarning: Using a string of single character colors as a color sequence is deprecated since 3.2 and will be removed two minor releases later. Use an explicit list instead.\n",
      "  plt.barh(range(len(percentage)), percentage,color='rgb',tick_label=classes)\n"
     ]
    },
    {
     "name": "stdout",
     "output_type": "stream",
     "text": [
      "Training finish\n",
      "\n",
      "Accuracy of the network on the 10000 test images: 47 %\n"
     ]
    },
    {
     "data": {
      "text/plain": "<Figure size 432x288 with 1 Axes>",
      "image/png": "[encoded data removed]"
     },
     "metadata": {
      "needs_background": "light"
     },
     "output_type": "display_data"
    },
    {
     "data": {
      "text/plain": "<Figure size 432x288 with 1 Axes>",
      "image/png": "[encoded data removed]"
     },
     "metadata": {
      "needs_background": "light"
     },
     "output_type": "display_data"
    }
   ],
   "source": [
    "net = mc.MC()\n",
    "criterion = nn.CrossEntropyLoss()\n",
    "optimizer = optim.SGD(net.parameters(), lr=0.001, momentum=0.9)\n",
    "net,train_x_axis,train_loss_lst,x_axis_test,test_loss_lst=tmc.train(model=net,train_set=train_loader,criterion=criterion,optimizer=optimizer,max_epoch=15,validate_batch=2000,test_set=test_loader,batch_size=5)\n",
    "test_perc=tmc.test(model=net,test_set=test_loader,classes=classes,batch_size=5)\n",
    "show_accu(train_x_axis,train_loss_lst,x_axis_test,test_loss_lst,\"batch\",\"error\",\"train\",\"loss\")\n",
    "show_percentage(classes=classes,percentage=test_perc)"
   ],
   "metadata": {
    "collapsed": false,
    "pycharm": {
     "name": "#%%\n"
    }
   }
  },
  {
   "cell_type": "markdown",
   "source": [
    "#### Notice that when training too many epochs, the model will overfit (the red test error line goes up and the green train erro line goes down)\n",
    "#### Using this experiment setting, the lowest test error appears at the second epoch, with the classification accuracy 48%."
   ],
   "metadata": {
    "collapsed": false,
    "pycharm": {
     "name": "#%% md\n"
    }
   }
  },
  {
   "cell_type": "code",
   "execution_count": 10,
   "outputs": [
    {
     "name": "stderr",
     "output_type": "stream",
     "text": [
      "model training:: 100%|██████████| 100000/100000 [01:29<00:00, 1112.79it/s]\n",
      "<ipython-input-7-14e01e829f9a>:16: MatplotlibDeprecationWarning: Using a string of single character colors as a color sequence is deprecated since 3.2 and will be removed two minor releases later. Use an explicit list instead.\n",
      "  plt.barh(range(len(percentage)), percentage,color='rgb',tick_label=classes)\n"
     ]
    },
    {
     "name": "stdout",
     "output_type": "stream",
     "text": [
      "Training finish\n",
      "\n",
      "Accuracy of the network on the 10000 test images: 48 %\n"
     ]
    },
    {
     "data": {
      "text/plain": "<Figure size 432x288 with 1 Axes>",
      "image/png": "[encoded data removed]"
     },
     "metadata": {
      "needs_background": "light"
     },
     "output_type": "display_data"
    },
    {
     "data": {
      "text/plain": "<Figure size 432x288 with 1 Axes>",
      "image/png": "[encoded data removed]"
     },
     "metadata": {
      "needs_background": "light"
     },
     "output_type": "display_data"
    }
   ],
   "source": [
    "net = mc.MC()\n",
    "criterion = nn.CrossEntropyLoss()\n",
    "optimizer = optim.SGD(net.parameters(), lr=0.001, momentum=0.9)\n",
    "net,train_x_axis,train_loss_lst,x_axis_test,test_loss_lst=tmc.train(model=net,train_set=train_loader,criterion=criterion,optimizer=optimizer,max_epoch=2,validate_batch=2000,test_set=test_loader,batch_size=5)\n",
    "test_perc=tmc.test(model=net,test_set=test_loader,classes=classes,batch_size=5)\n",
    "show_accu(train_x_axis,train_loss_lst,x_axis_test,test_loss_lst,\"batch\",\"error\",\"train\",\"loss\")\n",
    "show_percentage(classes=classes,percentage=test_perc)\n"
   ],
   "metadata": {
    "collapsed": false,
    "pycharm": {
     "name": "#%%\n"
    }
   }
  },
  {
   "cell_type": "markdown",
   "source": [
    "#### CrossEntropyLoss + Adagrad"
   ],
   "metadata": {
    "collapsed": false,
    "pycharm": {
     "name": "#%% md\n"
    }
   }
  },
  {
   "cell_type": "code",
   "execution_count": 11,
   "outputs": [
    {
     "name": "stderr",
     "output_type": "stream",
     "text": [
      "model training:: 100%|██████████| 1500000/1500000 [20:57<00:00, 1193.01it/s]\n",
      "<ipython-input-1-14e01e829f9a>:16: MatplotlibDeprecationWarning: Using a string of single character colors as a color sequence is deprecated since 3.2 and will be removed two minor releases later. Use an explicit list instead.\n",
      "  plt.barh(range(len(percentage)), percentage,color='rgb',tick_label=classes)\n"
     ]
    },
    {
     "name": "stdout",
     "output_type": "stream",
     "text": [
      "Training finish\n",
      "\n",
      "Accuracy of the network on the 10000 test images: 49 %\n"
     ]
    },
    {
     "data": {
      "text/plain": "<Figure size 432x288 with 1 Axes>",
      "image/png": "[encoded data removed]"
     },
     "metadata": {
      "needs_background": "light"
     },
     "output_type": "display_data"
    },
    {
     "data": {
      "text/plain": "<Figure size 432x288 with 1 Axes>",
      "image/png": "[encoded data removed]"
     },
     "metadata": {
      "needs_background": "light"
     },
     "output_type": "display_data"
    }
   ],
   "source": [
    "net_adagrad = mc.MC()\n",
    "optimizer = optim.Adagrad(net_adagrad.parameters(), lr=0.001, lr_decay=0, weight_decay=0, initial_accumulator_value=0, eps=1e-10)\n",
    "criterion = nn.CrossEntropyLoss()\n",
    "net_adagrad,train_x_axis,train_loss_lst,x_axis_test,test_loss_lst=tmc.train(model=net_adagrad,train_set=train_loader,criterion=criterion,optimizer=optimizer,max_epoch=30,validate_batch=2000,test_set=test_loader,batch_size=5)\n",
    "test_perc=tmc.test(model=net_adagrad,test_set=test_loader,classes=classes,batch_size=5)\n",
    "show_accu(train_x_axis,train_loss_lst,x_axis_test,test_loss_lst,\"batch\",\"error\",\"train\",\"loss\")\n",
    "show_percentage(classes=classes,percentage=test_perc)"
   ],
   "metadata": {
    "collapsed": false,
    "pycharm": {
     "name": "#%%\n"
    }
   }
  },
  {
   "cell_type": "code",
   "execution_count": 12,
   "outputs": [
    {
     "name": "stderr",
     "output_type": "stream",
     "text": [
      "model training:: 100%|██████████| 1500000/1500000 [20:25<00:00, 1224.44it/s]\n",
      "<ipython-input-1-14e01e829f9a>:16: MatplotlibDeprecationWarning: Using a string of single character colors as a color sequence is deprecated since 3.2 and will be removed two minor releases later. Use an explicit list instead.\n",
      "  plt.barh(range(len(percentage)), percentage,color='rgb',tick_label=classes)\n"
     ]
    },
    {
     "name": "stdout",
     "output_type": "stream",
     "text": [
      "Training finish\n",
      "\n",
      "Accuracy of the network on the 10000 test images: 50 %\n"
     ]
    },
    {
     "data": {
      "text/plain": "<Figure size 432x288 with 1 Axes>",
      "image/png": "[encoded data removed]"
     },
     "metadata": {
      "needs_background": "light"
     },
     "output_type": "display_data"
    },
    {
     "data": {
      "text/plain": "<Figure size 432x288 with 1 Axes>",
      "image/png": "[encoded data removed]"
     },
     "metadata": {
      "needs_background": "light"
     },
     "output_type": "display_data"
    }
   ],
   "source": [
    "net_adagrad2 = mc.MC()\n",
    "optimizer = optim.Adagrad(net_adagrad2.parameters(), lr=0.01, lr_decay=0, weight_decay=0, initial_accumulator_value=0, eps=1e-10)\n",
    "criterion = nn.CrossEntropyLoss()\n",
    "net_adagrad2,train_x_axis,train_loss_lst,x_axis_test,test_loss_lst=tmc.train(model=net_adagrad2,train_set=train_loader,criterion=criterion,optimizer=optimizer,max_epoch=30,validate_batch=2000,test_set=test_loader,batch_size=5)\n",
    "test_perc=tmc.test(model=net_adagrad2,test_set=test_loader,classes=classes,batch_size=5)\n",
    "show_accu(train_x_axis,train_loss_lst,x_axis_test,test_loss_lst,\"batch\",\"error\",\"train\",\"loss\")\n",
    "show_percentage(classes=classes,percentage=test_perc)"
   ],
   "metadata": {
    "collapsed": false,
    "pycharm": {
     "name": "#%%\n"
    }
   }
  },
  {
   "cell_type": "markdown",
   "source": [
    "#### After exploration, we observe the following phenomena:\n",
    "1. The number of training epoch will affect the best accuracy score of this linear training model<br>\n",
    "If the model is not trained for the enough epochs, it will not reach its best score. <br>\n",
    "If the model is trained for too many epochs, it will be overfitted and achieve lower score.\n",
    "2. The learning rate will affect the model's performance\n",
    "If the learning rate is too large, say the 0.01 in the last experiment done with Adagrad, it will soon reach its lowest test error\n",
    "and get overfit.\n",
    "3. The choice of optimizer will affect the model's best achieved performance score.\n",
    "#### Based on these observations, we can now use the method grid search to tune the hyperparameters\n",
    "#### Also notice that, we replace the tuning part of regularization to limit the max training epoch times."
   ],
   "metadata": {
    "collapsed": false,
    "pycharm": {
     "name": "#%% md\n"
    }
   }
  },
  {
   "cell_type": "code",
   "execution_count": 4,
   "outputs": [
    {
     "name": "stderr",
     "output_type": "stream",
     "text": [
      "model training:: 100%|██████████| 250000/250000 [02:41<00:00, 1544.22it/s]\n",
      "model training:: 100%|██████████| 250000/250000 [02:40<00:00, 1561.20it/s]\n",
      "model training:: 100%|██████████| 250000/250000 [02:42<00:00, 1537.34it/s]\n",
      "model training:: 100%|██████████| 250000/250000 [03:58<00:00, 1049.23it/s]\n",
      "model training:: 100%|██████████| 250000/250000 [04:46<00:00, 873.87it/s] \n",
      "model training:: 100%|██████████| 250000/250000 [06:40<00:00, 624.78it/s]\n",
      "model training:: 100%|██████████| 250000/250000 [03:48<00:00, 1092.22it/s]\n",
      "model training:: 100%|██████████| 250000/250000 [03:38<00:00, 1145.70it/s]\n",
      "model training:: 100%|██████████| 250000/250000 [03:38<00:00, 1146.28it/s]\n",
      "model training:: 100%|██████████| 250000/250000 [04:45<00:00, 875.84it/s]\n",
      "model training:: 100%|██████████| 250000/250000 [05:35<00:00, 745.59it/s]\n",
      "model training:: 100%|██████████| 250000/250000 [08:14<00:00, 505.45it/s] \n",
      "model training:: 100%|██████████| 500000/500000 [05:19<00:00, 1567.05it/s]\n",
      "model training:: 100%|██████████| 500000/500000 [05:29<00:00, 1516.20it/s]\n",
      "model training:: 100%|██████████| 500000/500000 [05:16<00:00, 1578.24it/s]\n",
      "model training:: 100%|██████████| 500000/500000 [07:57<00:00, 1046.58it/s]\n",
      "model training:: 100%|██████████| 500000/500000 [08:05<00:00, 1029.53it/s]\n",
      "model training:: 100%|██████████| 500000/500000 [12:50<00:00, 648.70it/s] \n",
      "model training:: 100%|██████████| 500000/500000 [07:03<00:00, 1180.41it/s] \n",
      "model training:: 100%|██████████| 500000/500000 [06:52<00:00, 1212.65it/s] \n",
      "model training:: 100%|██████████| 500000/500000 [06:52<00:00, 1211.88it/s]\n",
      "model training:: 100%|██████████| 500000/500000 [11:02<00:00, 754.46it/s]  \n",
      "model training:: 100%|██████████| 500000/500000 [11:55<00:00, 699.25it/s] \n",
      "model training:: 100%|██████████| 500000/500000 [18:44<00:00, 444.51it/s]  \n",
      "model training:: 100%|██████████| 750000/750000 [07:52<00:00, 1587.25it/s] \n",
      "model training:: 100%|██████████| 750000/750000 [07:55<00:00, 1577.47it/s] \n",
      "model training:: 100%|██████████| 750000/750000 [07:57<00:00, 1572.05it/s] \n",
      "model training:: 100%|██████████| 750000/750000 [11:40<00:00, 1070.81it/s] \n",
      "model training:: 100%|██████████| 750000/750000 [12:07<00:00, 1030.30it/s] \n",
      "model training:: 100%|██████████| 750000/750000 [19:34<00:00, 638.68it/s]  \n",
      "model training:: 100%|██████████| 750000/750000 [10:25<00:00, 1199.31it/s] \n",
      "model training:: 100%|██████████| 750000/750000 [10:45<00:00, 1161.06it/s] \n",
      "model training:: 100%|██████████| 750000/750000 [11:26<00:00, 1092.18it/s] \n",
      "model training:: 100%|██████████| 750000/750000 [15:24<00:00, 810.85it/s]  \n",
      "model training:: 100%|██████████| 750000/750000 [19:27<00:00, 642.27it/s]  \n",
      "model training:: 100%|██████████| 750000/750000 [30:38<00:00, 407.84it/s]  \n",
      "model training:: 100%|██████████| 250000/250000 [01:23<00:00, 2980.32it/s]\n",
      "model training:: 100%|██████████| 250000/250000 [01:26<00:00, 2886.14it/s]\n",
      "model training:: 100%|██████████| 250000/250000 [01:23<00:00, 2985.73it/s]\n",
      "model training:: 100%|██████████| 250000/250000 [01:52<00:00, 2217.09it/s]\n",
      "model training:: 100%|██████████| 250000/250000 [01:57<00:00, 2132.18it/s]\n",
      "model training:: 100%|██████████| 250000/250000 [02:11<00:00, 1896.70it/s]\n",
      "model training:: 100%|██████████| 250000/250000 [01:46<00:00, 2355.86it/s]\n",
      "model training:: 100%|██████████| 250000/250000 [01:48<00:00, 2305.71it/s]\n",
      "model training:: 100%|██████████| 250000/250000 [01:46<00:00, 2345.07it/s]\n",
      "model training:: 100%|██████████| 250000/250000 [02:17<00:00, 1818.92it/s]\n",
      "model training:: 100%|██████████| 250000/250000 [02:23<00:00, 1747.85it/s]\n",
      "model training:: 100%|██████████| 250000/250000 [03:26<00:00, 1209.82it/s]\n",
      "model training:: 100%|██████████| 500000/500000 [02:53<00:00, 2877.74it/s]\n",
      "model training:: 100%|██████████| 500000/500000 [02:54<00:00, 2863.07it/s]\n",
      "model training:: 100%|██████████| 500000/500000 [02:55<00:00, 2854.59it/s]\n",
      "model training:: 100%|██████████| 500000/500000 [03:56<00:00, 2111.04it/s]\n",
      "model training:: 100%|██████████| 500000/500000 [04:09<00:00, 2005.00it/s]\n",
      "model training:: 100%|██████████| 500000/500000 [05:51<00:00, 1421.68it/s]\n",
      "model training:: 100%|██████████| 500000/500000 [03:33<00:00, 2339.31it/s]\n",
      "model training:: 100%|██████████| 500000/500000 [03:34<00:00, 2332.27it/s]\n",
      "model training:: 100%|██████████| 500000/500000 [03:34<00:00, 2328.26it/s]\n",
      "model training:: 100%|██████████| 500000/500000 [04:30<00:00, 1846.18it/s]\n",
      "model training:: 100%|██████████| 500000/500000 [04:46<00:00, 1743.65it/s]\n",
      "model training:: 100%|██████████| 500000/500000 [07:04<00:00, 1177.37it/s] \n",
      "model training:: 100%|██████████| 750000/750000 [04:14<00:00, 2950.15it/s]\n",
      "model training:: 100%|██████████| 750000/750000 [04:12<00:00, 2966.96it/s]\n",
      "model training:: 100%|██████████| 750000/750000 [04:13<00:00, 2962.89it/s]\n",
      "model training:: 100%|██████████| 750000/750000 [05:45<00:00, 2168.80it/s]\n",
      "model training:: 100%|██████████| 750000/750000 [06:03<00:00, 2063.19it/s]\n",
      "model training:: 100%|██████████| 750000/750000 [08:59<00:00, 1390.84it/s] \n",
      "model training:: 100%|██████████| 750000/750000 [05:30<00:00, 2265.87it/s] \n",
      "model training:: 100%|██████████| 750000/750000 [05:30<00:00, 2269.36it/s]\n",
      "model training:: 100%|██████████| 750000/750000 [05:32<00:00, 2255.71it/s]\n",
      "model training:: 100%|██████████| 750000/750000 [07:03<00:00, 1772.88it/s] \n",
      "model training:: 100%|██████████| 750000/750000 [07:16<00:00, 1719.03it/s] \n",
      "model training:: 100%|██████████| 750000/750000 [11:31<00:00, 1084.39it/s] \n"
     ]
    },
    {
     "name": "stdout",
     "output_type": "stream",
     "text": [
      "Training finish\n",
      "\n",
      "Accuracy of the network on the 10000 test images: 49 %\n",
      "49.89\n",
      "{'bs': 4, 'epoch': 5, 'opt': 'SGD', 'lr': 0.001}\n",
      "Training finish\n",
      "\n",
      "Accuracy of the network on the 10000 test images: 51 %\n",
      "51.46\n",
      "{'bs': 4, 'epoch': 5, 'opt': 'SGD', 'lr': 0.005}\n",
      "Training finish\n",
      "\n",
      "Accuracy of the network on the 10000 test images: 49 %\n",
      "Training finish\n",
      "\n",
      "Accuracy of the network on the 10000 test images: 44 %\n",
      "Training finish\n",
      "\n",
      "Accuracy of the network on the 10000 test images: 10 %\n",
      "Training finish\n",
      "\n",
      "Accuracy of the network on the 10000 test images: 10 %\n",
      "Training finish\n",
      "\n",
      "Accuracy of the network on the 10000 test images: 46 %\n",
      "Training finish\n",
      "\n",
      "Accuracy of the network on the 10000 test images: 49 %\n",
      "Training finish\n",
      "\n",
      "Accuracy of the network on the 10000 test images: 50 %\n",
      "Training finish\n",
      "\n",
      "Accuracy of the network on the 10000 test images: 47 %\n",
      "Training finish\n",
      "\n",
      "Accuracy of the network on the 10000 test images: 17 %\n",
      "Training finish\n",
      "\n",
      "Accuracy of the network on the 10000 test images: 10 %\n",
      "Training finish\n",
      "\n",
      "Accuracy of the network on the 10000 test images: 51 %\n",
      "51.71\n",
      "{'bs': 4, 'epoch': 10, 'opt': 'SGD', 'lr': 0.001}\n",
      "Training finish\n",
      "\n",
      "Accuracy of the network on the 10000 test images: 51 %\n",
      "Training finish\n",
      "\n",
      "Accuracy of the network on the 10000 test images: 49 %\n",
      "Training finish\n",
      "\n",
      "Accuracy of the network on the 10000 test images: 45 %\n",
      "Training finish\n",
      "\n",
      "Accuracy of the network on the 10000 test images: 15 %\n",
      "Training finish\n",
      "\n",
      "Accuracy of the network on the 10000 test images: 10 %\n",
      "Training finish\n",
      "\n",
      "Accuracy of the network on the 10000 test images: 48 %\n",
      "Training finish\n",
      "\n",
      "Accuracy of the network on the 10000 test images: 50 %\n",
      "Training finish\n",
      "\n",
      "Accuracy of the network on the 10000 test images: 51 %\n",
      "Training finish\n",
      "\n",
      "Accuracy of the network on the 10000 test images: 46 %\n",
      "Training finish\n",
      "\n",
      "Accuracy of the network on the 10000 test images: 19 %\n",
      "Training finish\n",
      "\n",
      "Accuracy of the network on the 10000 test images: 10 %\n",
      "Training finish\n",
      "\n",
      "Accuracy of the network on the 10000 test images: 52 %\n",
      "52.22\n",
      "{'bs': 4, 'epoch': 15, 'opt': 'SGD', 'lr': 0.001}\n",
      "Training finish\n",
      "\n",
      "Accuracy of the network on the 10000 test images: 50 %\n",
      "Training finish\n",
      "\n",
      "Accuracy of the network on the 10000 test images: 48 %\n",
      "Training finish\n",
      "\n",
      "Accuracy of the network on the 10000 test images: 44 %\n",
      "Training finish\n",
      "\n",
      "Accuracy of the network on the 10000 test images: 16 %\n",
      "Training finish\n",
      "\n",
      "Accuracy of the network on the 10000 test images: 10 %\n",
      "Training finish\n",
      "\n",
      "Accuracy of the network on the 10000 test images: 48 %\n",
      "Training finish\n",
      "\n",
      "Accuracy of the network on the 10000 test images: 50 %\n",
      "Training finish\n",
      "\n",
      "Accuracy of the network on the 10000 test images: 50 %\n",
      "Training finish\n",
      "\n",
      "Accuracy of the network on the 10000 test images: 47 %\n",
      "Training finish\n",
      "\n",
      "Accuracy of the network on the 10000 test images: 19 %\n",
      "Training finish\n",
      "\n",
      "Accuracy of the network on the 10000 test images: 10 %\n",
      "Training finish\n",
      "\n",
      "Accuracy of the network on the 10000 test images: 47 %\n",
      "Training finish\n",
      "\n",
      "Accuracy of the network on the 10000 test images: 51 %\n",
      "Training finish\n",
      "\n",
      "Accuracy of the network on the 10000 test images: 51 %\n",
      "Training finish\n",
      "\n",
      "Accuracy of the network on the 10000 test images: 46 %\n",
      "Training finish\n",
      "\n",
      "Accuracy of the network on the 10000 test images: 26 %\n",
      "Training finish\n",
      "\n",
      "Accuracy of the network on the 10000 test images: 10 %\n",
      "Training finish\n",
      "\n",
      "Accuracy of the network on the 10000 test images: 46 %\n",
      "Training finish\n",
      "\n",
      "Accuracy of the network on the 10000 test images: 50 %\n",
      "Training finish\n",
      "\n",
      "Accuracy of the network on the 10000 test images: 50 %\n",
      "Training finish\n",
      "\n",
      "Accuracy of the network on the 10000 test images: 49 %\n",
      "Training finish\n",
      "\n",
      "Accuracy of the network on the 10000 test images: 29 %\n",
      "Training finish\n",
      "\n",
      "Accuracy of the network on the 10000 test images: 10 %\n",
      "Training finish\n",
      "\n",
      "Accuracy of the network on the 10000 test images: 49 %\n",
      "Training finish\n",
      "\n",
      "Accuracy of the network on the 10000 test images: 52 %\n",
      "52.4\n",
      "{'bs': 10, 'epoch': 10, 'opt': 'SGD', 'lr': 0.005}\n",
      "Training finish\n",
      "\n",
      "Accuracy of the network on the 10000 test images: 51 %\n",
      "Training finish\n",
      "\n",
      "Accuracy of the network on the 10000 test images: 48 %\n",
      "Training finish\n",
      "\n",
      "Accuracy of the network on the 10000 test images: 28 %\n",
      "Training finish\n",
      "\n",
      "Accuracy of the network on the 10000 test images: 10 %\n",
      "Training finish\n",
      "\n",
      "Accuracy of the network on the 10000 test images: 47 %\n",
      "Training finish\n",
      "\n",
      "Accuracy of the network on the 10000 test images: 51 %\n",
      "Training finish\n",
      "\n",
      "Accuracy of the network on the 10000 test images: 51 %\n",
      "Training finish\n",
      "\n",
      "Accuracy of the network on the 10000 test images: 50 %\n",
      "Training finish\n",
      "\n",
      "Accuracy of the network on the 10000 test images: 28 %\n",
      "Training finish\n",
      "\n",
      "Accuracy of the network on the 10000 test images: 10 %\n",
      "Training finish\n",
      "\n",
      "Accuracy of the network on the 10000 test images: 51 %\n",
      "Training finish\n",
      "\n",
      "Accuracy of the network on the 10000 test images: 51 %\n",
      "Training finish\n",
      "\n",
      "Accuracy of the network on the 10000 test images: 50 %\n",
      "Training finish\n",
      "\n",
      "Accuracy of the network on the 10000 test images: 47 %\n",
      "Training finish\n",
      "\n",
      "Accuracy of the network on the 10000 test images: 25 %\n",
      "Training finish\n",
      "\n",
      "Accuracy of the network on the 10000 test images: 10 %\n",
      "Training finish\n",
      "\n",
      "Accuracy of the network on the 10000 test images: 48 %\n",
      "Training finish\n",
      "\n",
      "Accuracy of the network on the 10000 test images: 51 %\n",
      "Training finish\n",
      "\n",
      "Accuracy of the network on the 10000 test images: 50 %\n",
      "Training finish\n",
      "\n",
      "Accuracy of the network on the 10000 test images: 48 %\n",
      "Training finish\n",
      "\n",
      "Accuracy of the network on the 10000 test images: 27 %\n",
      "Training finish\n",
      "\n",
      "Accuracy of the network on the 10000 test images: 10 %\n"
     ]
    }
   ],
   "source": [
    "batch_size=[4,10]\n",
    "max_epoch_lst=[5,10,15]\n",
    "optimizer_lst = ['SGD', 'RMSprop', 'Adagrad', 'Adam']\n",
    "lr_lst=[0.001,0.005,0.01]\n",
    "# batch_size=[4]\n",
    "# max_epoch_lst=[5]\n",
    "# optimizer_lst = ['sgd']\n",
    "# lr_lst=[0.001]\n",
    "criterion=nn.CrossEntropyLoss()\n",
    "accu_best=0\n",
    "model_best=None\n",
    "param_best={}\n",
    "for bs in batch_size:\n",
    "    train_loader, test_loader, classes = tmc.get_cifar10(batch_size=bs)\n",
    "    for epoch in max_epoch_lst:\n",
    "        for opt in optimizer_lst:\n",
    "            for lr in lr_lst:\n",
    "                model = mc.MC()\n",
    "                model_trained = tmc.train_tune(model=model,train_loader=train_loader,test_loader=test_loader,criterion=criterion,optimizer=opt,lr=lr,max_epoch=epoch,batch_size=bs)\n",
    "                percentage,accuracy = tmc.test(model_trained,test_loader,classes,batch_size=bs)\n",
    "                if accuracy > accu_best:\n",
    "                    accu_best=accuracy\n",
    "                    model_best=model_trained\n",
    "                    param_best={'bs':bs,'epoch':epoch,'opt':opt,'lr':lr}\n",
    "                    print(accu_best)\n",
    "                    print(param_best)"
   ],
   "metadata": {
    "collapsed": false,
    "pycharm": {
     "name": "#%%\n"
    }
   }
  },
  {
   "cell_type": "markdown",
   "source": [
    "#### The best accuracy I can reach is 52.4% with :\n",
    "batch size equals 10,<br>\n",
    "max epoch number equals 10,<br>\n",
    "the SGD optimizer and the learning rate of 0.05."
   ],
   "metadata": {
    "collapsed": false,
    "pycharm": {
     "name": "#%% md\n"
    }
   }
  },
  {
   "cell_type": "code",
   "execution_count": 5,
   "outputs": [
    {
     "name": "stdout",
     "output_type": "stream",
     "text": [
      "52.4\n",
      "{'bs': 10, 'epoch': 10, 'opt': 'SGD', 'lr': 0.005}\n"
     ]
    }
   ],
   "source": [
    "print(accu_best)\n",
    "print(param_best)\n"
   ],
   "metadata": {
    "collapsed": false,
    "pycharm": {
     "name": "#%%\n"
    }
   }
  }
 ],
 "metadata": {
  "kernelspec": {
   "display_name": "Python 3",
   "language": "python",
   "name": "python3"
  },
  "language_info": {
   "codemirror_mode": {
    "name": "ipython",
    "version": 2
   },
   "file_extension": ".py",
   "mimetype": "text/x-python",
   "name": "python",
   "nbconvert_exporter": "python",
   "pygments_lexer": "ipython2",
   "version": "2.7.6"
  }
 },
 "nbformat": 4,
 "nbformat_minor": 0
}